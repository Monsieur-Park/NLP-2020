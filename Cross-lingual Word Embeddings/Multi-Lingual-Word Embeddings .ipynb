{
 "cells": [
  {
   "cell_type": "markdown",
   "metadata": {},
   "source": [
    "# Multi-lingual Word Embeddings "
   ]
  },
  {
   "cell_type": "markdown",
   "metadata": {},
   "source": [
    "## Methodische Seite: \n",
    "\n",
    "* Folgende Arbeit setzt mit dem Konzept und Mehtode zu sogenannten Bi-lingualen-bzw. Multilingualen Word-Embeddings auseinander, die ermöglicht, Wortvektoren sprachübergreifend anzuwenden, während die (bisherige) monolinguale Word-Embeddings auf einsprachige Modellen fokussiert haben.  \n",
    "\n",
    "* Forschungsüberblick \n",
    "\n",
    "    * Sentence-Skip-Gramm (BiSkip): Luong et al. (2015) \n",
    "    -> the same cross-lingual regularization terms as Trans-gram[1] \n",
    "    \n",
    "    * Bilingual-Mapping: Mikolov et al. (2013b), Conneau et al. (2018a)[2] \n",
    "    -> Embeddings in 2 Sprachen einzeln lernen. \n",
    "    -> a linear transformation outperforms non-linear transformation learned \n",
    "        via a feedforward neural network\n",
    "\n",
    "* Anwendungen von multilingualen Embeddings: \n",
    "    - (Automatische) Maschienelle Übersetzung\n",
    "    - Multilinguale NER [3]"
   ]
  },
  {
   "cell_type": "markdown",
   "metadata": {},
   "source": [
    "## Hervorgehensweise: \n",
    "\n",
    "Zur Repräsentation der deutschen und englischen Wörtern werden zunächst die jeweiligen vortrainierten Datensätze benötigt. \n",
    "In dieser Arbeit werden ConceptNet multilingual embeddings[4] für Deutsch und Englisch und für Deutsch und Französisch verwendet. "
   ]
  },
  {
   "cell_type": "code",
   "execution_count": 1,
   "metadata": {},
   "outputs": [],
   "source": [
    "# Importieren der Packages \n",
    "from sklearn.feature_extraction.text import CountVectorizer\n",
    "from sklearn.metrics import f1_score, confusion_matrix\n",
    "import codecs\n",
    "import numpy as np\n",
    "import os\n",
    "import pandas as pd\n",
    "from collections import Counter"
   ]
  },
  {
   "cell_type": "code",
   "execution_count": 2,
   "metadata": {},
   "outputs": [],
   "source": [
    "\"\"\"\n",
    "Eine einfache Funktion zum Aufruf und Laden des Datasets.\n",
    "\n",
    "Args\n",
    "----\n",
    "path: Verzeichnis zum Trainingsdaten\n",
    "dimension: Dimensionen der Wortvektoren. \n",
    "entweder zu skippen oder not the header\n",
    "vocab: Laden der Wörter,die sich nur im Wörterbuch befinden. \n",
    "\n",
    "Rückgabe\n",
    "-----\n",
    "Wortvektoren\n",
    "\"\"\"\n",
    "\n",
    "def load_embeddings(path, dimension,skip_header=True,vocab=None):\n",
    "    \n",
    "    with codecs.open(path,\"r\",encoding=\"utf-8\") as f:\n",
    "        if skip_header==True:\n",
    "            info = f.readline()\n",
    "            print(\"{} vectors of dimension {}\".format(*info.split()))\n",
    "        vectors = {}\n",
    "        for cnt,line in enumerate(f):\n",
    "            elems = line.split()\n",
    "            word = \" \".join(elems[:-dimension])\n",
    "            if vocab is not None and word in vocab:\n",
    "                vectors[\" \".join(elems[:-dimension])] =  np.array(elems[-dimension:]).astype(np.float)\n",
    "            if vocab is None:\n",
    "                vectors[\" \".join(elems[:-dimension])] =  np.array(elems[-dimension:]).astype(np.float)\n",
    "        print(\"Loaded {} vectors\".format(len(vectors)))\n",
    "        return vectors\n",
    "    "
   ]
  },
  {
   "cell_type": "code",
   "execution_count": 4,
   "metadata": {},
   "outputs": [],
   "source": [
    "\"\"\"\n",
    "Eine Funktion zur Umwanldung der Vektoren in Arrays \n",
    "\"\"\"\n",
    " \n",
    "def emb2numpy(embeddings_dico):\n",
    "    keys = []\n",
    "    values = []\n",
    "    for k in embeddings_dico:\n",
    "        keys.append(k)\n",
    "        values.append(embeddings_dico[k])\n",
    "    return keys,np.array(values)"
   ]
  },
  {
   "cell_type": "code",
   "execution_count": 5,
   "metadata": {},
   "outputs": [],
   "source": [
    "import sys\n",
    "sys.path.append('..')\n",
    "from IPython.display import Image\n",
    "import numpy as np\n",
    "from umap import UMAP\n",
    "import matplotlib.pyplot as plt\n",
    "import seaborn as sns"
   ]
  },
  {
   "cell_type": "code",
   "execution_count": 36,
   "metadata": {},
   "outputs": [],
   "source": [
    "# Einige englische und deutsche Wörter zur Auswahl\n",
    "english_words = [\"mother\",\"father\",\"child\",\"boy\",\"police\",\"come\"]\n",
    "german_words = [\"vater\", \"polizei\", \"mutter\", \"junge\",\"kind\" \"kommen\"]"
   ]
  },
  {
   "cell_type": "code",
   "execution_count": 37,
   "metadata": {},
   "outputs": [
    {
     "name": "stdout",
     "output_type": "stream",
     "text": [
      "Loaded 6 vectors\n",
      "Loaded 4 vectors\n"
     ]
    }
   ],
   "source": [
    "# Laden der Trainingsdaten, dabei werden die Wörter zunächst geprüft, ob diese im Triningsdaten befinden. \n",
    "\n",
    "en_emb = load_embeddings(path=\"./concept_net_1706.300.en\", dimension=300,skip_header=False,vocab=english_words)\n",
    "de_emb = load_embeddings(path=\"./concept_net_1706.300.de\", dimension=300,skip_header=False,vocab=german_words)"
   ]
  },
  {
   "cell_type": "code",
   "execution_count": 38,
   "metadata": {},
   "outputs": [],
   "source": [
    "# Arraysieren der Vektoren \n",
    "words_en,V_en = emb2numpy(en_emb)\n",
    "words_de,V_de = emb2numpy(de_emb)"
   ]
  },
  {
   "cell_type": "code",
   "execution_count": 39,
   "metadata": {},
   "outputs": [],
   "source": [
    "# Zusammenfügen beider Arrays\n",
    "vectors = np.concatenate((V_en,V_de))\n",
    "all_words  = words_en+words_de"
   ]
  },
  {
   "cell_type": "code",
   "execution_count": 40,
   "metadata": {},
   "outputs": [
    {
     "name": "stderr",
     "output_type": "stream",
     "text": [
      "C:\\Users\\Yohan\\Anaconda3\\lib\\site-packages\\umap\\spectral.py:229: UserWarning: Embedding a total of 2 separate connected components using meta-embedding (experimental)\n",
      "  n_components\n"
     ]
    }
   ],
   "source": [
    "# Zur Projektieung werden die mehrdimensionalen Arrays auf zweidimensionalen reduziert. \n",
    "\n",
    "V_umap = UMAP(n_neighbors=3,min_dist=0.6).fit_transform(vectors)\n"
   ]
  },
  {
   "cell_type": "code",
   "execution_count": 41,
   "metadata": {},
   "outputs": [
    {
     "data": {
      "image/png": "[encoded data removed]",
      "text/plain": [
       "<Figure size 720x432 with 1 Axes>"
      ]
     },
     "metadata": {
      "needs_background": "light"
     },
     "output_type": "display_data"
    }
   ],
   "source": [
    "# Visualisierung von Wörtern. \n",
    "sns.set_context(\"talk\")\n",
    "\n",
    "fig= plt.figure(figsize=(10,6))\n",
    "\n",
    "plt.scatter(V_umap[:, 0], V_umap[:, 1])\n",
    "for i, word in enumerate(all_words):\n",
    "    plt.annotate(word, xy=(V_umap[i, 0], V_umap[i, 1]))\n",
    "plt.show()"
   ]
  },
  {
   "cell_type": "markdown",
   "metadata": {},
   "source": [
    "### Word Embeddings mit 3 Sprachen"
   ]
  },
  {
   "cell_type": "code",
   "execution_count": 63,
   "metadata": {},
   "outputs": [],
   "source": [
    "# Einige englische und deutsche französische Wörter zur Auswahl\n",
    "\n",
    "english_words2 = [\"mother\",\"father\",\"boy\",\"king\",\"queen\"]\n",
    "german_words = [\"vater\", \"könig\",\"königin\" ,\"mutter\", \"junge\"]\n",
    "french_words = [\"roi\", \"reine\",\"mère\", \"père\", \"garçon\"]"
   ]
  },
  {
   "cell_type": "code",
   "execution_count": 64,
   "metadata": {},
   "outputs": [
    {
     "name": "stdout",
     "output_type": "stream",
     "text": [
      "Loaded 5 vectors\n",
      "Loaded 5 vectors\n",
      "Loaded 5 vectors\n"
     ]
    }
   ],
   "source": [
    "# Laden der Trainingsdaten\n",
    "\n",
    "en_emb = load_embeddings(path=\"./concept_net_1706.300.en\", dimension=300,skip_header=False,vocab=english_words2)\n",
    "de_emb = load_embeddings(path=\"./concept_net_1706.300.de\", dimension=300,skip_header=False,vocab=german_words)\n",
    "fr_emb = load_embeddings(path=\"./concept_net_1706.300.fr\", dimension=300,skip_header=False,vocab=french_words)"
   ]
  },
  {
   "cell_type": "code",
   "execution_count": 65,
   "metadata": {},
   "outputs": [],
   "source": [
    "# Arraysieren der Vektoren \n",
    "\n",
    "words_en,V_en = emb2numpy(en_emb)\n",
    "words_de,V_de = emb2numpy(de_emb)\n",
    "words_fr,V_fr = emb2numpy(fr_emb)"
   ]
  },
  {
   "cell_type": "code",
   "execution_count": 67,
   "metadata": {},
   "outputs": [],
   "source": [
    "# Zusammenfägen dreier Arrays \n",
    "\n",
    "vectors_new = np.concatenate((V_en,V_de,V_fr))\n",
    "all_words_new = words_en+words_de+words_fr"
   ]
  },
  {
   "cell_type": "code",
   "execution_count": 68,
   "metadata": {},
   "outputs": [
    {
     "name": "stderr",
     "output_type": "stream",
     "text": [
      "C:\\Users\\Yohan\\Anaconda3\\lib\\site-packages\\umap\\spectral.py:229: UserWarning: Embedding a total of 5 separate connected components using meta-embedding (experimental)\n",
      "  n_components\n"
     ]
    }
   ],
   "source": [
    "# Reduzierung der Arraysdimensierung \n",
    "\n",
    "V_umap_new = UMAP(n_neighbors=3,min_dist=0.6).fit_transform(vectors_new)"
   ]
  },
  {
   "cell_type": "code",
   "execution_count": 72,
   "metadata": {},
   "outputs": [
    {
     "data": {
      "image/png": "[encoded data removed]",
      "text/plain": [
       "<Figure size 2520x1080 with 1 Axes>"
      ]
     },
     "metadata": {
      "needs_background": "light"
     },
     "output_type": "display_data"
    }
   ],
   "source": [
    "# Visualisierung von Wörtern. \n",
    "\n",
    "sns.set_context(\"talk\")\n",
    "\n",
    "fig= plt.figure(figsize=(35,15))\n",
    "\n",
    "plt.scatter(V_umap_new[:, 0], V_umap_new[:, 1])\n",
    "for i, word in enumerate(all_words_new):\n",
    "    plt.annotate(word, xy=(V_umap_new[i, 0], V_umap_new[i, 1]))\n",
    "plt.show()"
   ]
  },
  {
   "cell_type": "markdown",
   "metadata": {},
   "source": [
    "## Fazit \n",
    "\n",
    "Das Ergebnis ist durchaus zufriedenstellend. \n",
    "Es ist zu beobachten, dass Wörter aus den unterschiedlichen Sprachenen aber selbe semantische Bedeutungen haben, nah beieinander im Vekotrraum sind. \n",
    "Dabei ist anzumerken, dass das Ergebnis mit dem Schwierigkeitsgrad der Testwörter in Zusammenhang steht. Daher soll es überprüft werden, den Vorgang mit den Wörtern mit der komplexen Bedeutung zu testen, wobei das Ergebnis dem Inhalt der Datasets  zurundeliegt.\n",
    "In Kontext auf DH wäre sicherlich interessant, diese Mehtode mit dem Forschungsdaten (z.B. Dataset bzw. Pararellekorpus mit der historischen-semantik) anzupassen und vervollständigen.  "
   ]
  },
  {
   "cell_type": "markdown",
   "metadata": {},
   "source": [
    "# Referenzen \n",
    "\n",
    "[1.Pham, H., Luong, M.-T., & Manning, C. D. (2015). Learning Distributed Representations for Multilingual Text Sequences. Workshop on Vector Modeling for NLP, 88–94](https://www.aclweb.org/anthology/W15-1512.pdf)\n",
    "\n",
    "[2. Conneau, A., Lample, G., Ranzato, M., Denoyer, L., & Jégou, H. (2018a). Word Translation\n",
    "Without Parallel Data. In Proceedings of ICLR 2018.](https://arxiv.org/abs/1710.04087)\n",
    "\n",
    "\n",
    "[3. 19 entities for 104 languages: A new era of NER with the DeepPavlov multilingual BERT](https://towardsdatascience.com/19-entities-for-104-languages-a-new-era-of-ner-with-the-deeppavlov-multilingual-bert-1bfa6d413ea6)\n",
    "\n",
    "[4. Conceptnet-Numberbatch](https://libraries.io/github/commonsense/conceptnet-numberbatch)\n",
    "\n"
   ]
  }
 ],
 "metadata": {
  "kernelspec": {
   "display_name": "Python 3",
   "language": "python",
   "name": "python3"
  },
  "language_info": {
   "codemirror_mode": {
    "name": "ipython",
    "version": 3
   },
   "file_extension": ".py",
   "mimetype": "text/x-python",
   "name": "python",
   "nbconvert_exporter": "python",
   "pygments_lexer": "ipython3",
   "version": "3.7.4"
  }
 },
 "nbformat": 4,
 "nbformat_minor": 2
}
